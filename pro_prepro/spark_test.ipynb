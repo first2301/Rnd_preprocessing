{
 "cells": [
  {
   "cell_type": "code",
   "execution_count": 1,
   "metadata": {},
   "outputs": [
    {
     "name": "stdout",
     "output_type": "stream",
     "text": [
      "Requirement already satisfied: findspark in c:\\users\\pcn\\anaconda3\\envs\\data\\lib\\site-packages (2.0.1)\n"
     ]
    }
   ],
   "source": [
    "!pip install findspark"
   ]
  },
  {
   "cell_type": "code",
   "execution_count": 2,
   "metadata": {},
   "outputs": [],
   "source": [
    "from pyspark.sql.session import SparkSession\n",
    "from pyspark.sql.context import SparkContext\n",
    "from lib.prepro import Preprocessing, SparkDataFrame\n",
    "from tqdm.notebook import tqdm\n",
    "import dask.dataframe as dd\n",
    "import os\n",
    "from pprint import pprint"
   ]
  },
  {
   "cell_type": "code",
   "execution_count": 3,
   "metadata": {},
   "outputs": [],
   "source": [
    "PATH_CCTV_DATA = 'G:/industry_data/117.산업시설 열화상 CCTV 데이터/01.데이터/1.Training/원천데이터/*'\n",
    "PATH_SAND_DATA = 'G:/industry_data/264.건설 모래 품질 관리데이터/01-1.정식개방데이터/Training/01.원천데이터/*'\n",
    "PATH_SAND_LABEL = 'G:/industry_data/264.건설 모래 품질 관리데이터/01-1.정식개방데이터/Training/02.라벨링데이터/*'\n",
    "\n",
    "# PATH_CCTV_DATA = './cctv_data/*'\n",
    "# PATH_SAND_DATA = './sand_data/*'\n",
    "# PATH_SAND_LABEL = './sand_label_data/*'\n",
    "\n",
    "# PATH_CCTV_DATA = 'G:/industry_data/117.산업시설 열화상 CCTV 데이터/01.데이터/1.Training/원천데이터'\n",
    "# PATH_SAND_DATA = 'G:/industry_data/264.건설 모래 품질 관리데이터/01-1.정식개방데이터/Training/01.원천데이터'\n",
    "# PATH_SAND_LABEL = 'G:/industry_data/264.건설 모래 품질 관리데이터/01-1.정식개방데이터/Training/02.라벨링데이터'"
   ]
  },
  {
   "cell_type": "code",
   "execution_count": 4,
   "metadata": {},
   "outputs": [],
   "source": [
    "prepro = Preprocessing()\n",
    "sdf = SparkDataFrame()"
   ]
  },
  {
   "cell_type": "code",
   "execution_count": 5,
   "metadata": {},
   "outputs": [],
   "source": [
    "cctv_paths = prepro.get_all_file_paths(PATH_CCTV_DATA)\n",
    "sand_paths = prepro.get_all_file_paths(PATH_SAND_DATA)\n",
    "sand_label_paths = prepro.get_all_file_paths(PATH_SAND_LABEL)"
   ]
  },
  {
   "cell_type": "code",
   "execution_count": 6,
   "metadata": {},
   "outputs": [],
   "source": [
    "cctv_df = sdf.get_spark_dataframe(cctv_paths)\n",
    "sand_df = sdf.get_spark_dataframe(sand_paths)\n",
    "sand_label_df = sdf.get_spark_dataframe(sand_label_paths)"
   ]
  },
  {
   "cell_type": "code",
   "execution_count": 7,
   "metadata": {},
   "outputs": [],
   "source": [
    "cctv_data_info = prepro.print_data_type_num(cctv_paths)\n",
    "sand_data_info = prepro.print_data_type_num(sand_paths)\n",
    "sand_label_data_info = prepro.print_data_type_num(sand_label_paths)"
   ]
  },
  {
   "cell_type": "code",
   "execution_count": 13,
   "metadata": {},
   "outputs": [
    {
     "data": {
      "text/plain": [
       "'G:/industry_data/117.산업시설 열화상 CCTV 데이터/01.데이터/1.Training/원천데이터\\\\TS10\\\\2.변전소\\\\4.계기용변압기(PT)\\\\0204010917(0132)(0497)0301.jpg'"
      ]
     },
     "execution_count": 13,
     "metadata": {},
     "output_type": "execute_result"
    }
   ],
   "source": [
    "cctv_paths[0]"
   ]
  },
  {
   "cell_type": "code",
   "execution_count": 12,
   "metadata": {},
   "outputs": [
    {
     "data": {
      "text/plain": [
       "'4.계기용변압기(PT)'"
      ]
     },
     "execution_count": 12,
     "metadata": {},
     "output_type": "execute_result"
    }
   ],
   "source": [
    "prepro.get_folder_name(cctv_paths[0])"
   ]
  },
  {
   "cell_type": "code",
   "execution_count": 8,
   "metadata": {},
   "outputs": [
    {
     "name": "stdout",
     "output_type": "stream",
     "text": [
      "('\\n'\n",
      " '            데이터 처리 정보: \\n'\n",
      " '            -------------------------------------- \\n'\n",
      " '            전체 이미지 데이터 수: 1457336 \\n'\n",
      " '            png counts: 0 \\n'\n",
      " '            jpg counts: 1093002 \\n'\n",
      " '            csv counts: 364334\\n'\n",
      " '            json counts: 0\\n'\n",
      " '            etc counts: 0 \\n'\n",
      " '            -------------------------------------- \\n'\n",
      " '            ')\n",
      "('\\n'\n",
      " '            데이터 처리 정보: \\n'\n",
      " '            -------------------------------------- \\n'\n",
      " '            전체 이미지 데이터 수: 490755 \\n'\n",
      " '            png counts: 490755 \\n'\n",
      " '            jpg counts: 0 \\n'\n",
      " '            csv counts: 0\\n'\n",
      " '            json counts: 0\\n'\n",
      " '            etc counts: 0 \\n'\n",
      " '            -------------------------------------- \\n'\n",
      " '            ')\n",
      "('\\n'\n",
      " '            데이터 처리 정보: \\n'\n",
      " '            -------------------------------------- \\n'\n",
      " '            전체 이미지 데이터 수: 490755 \\n'\n",
      " '            png counts: 0 \\n'\n",
      " '            jpg counts: 0 \\n'\n",
      " '            csv counts: 0\\n'\n",
      " '            json counts: 490755\\n'\n",
      " '            etc counts: 0 \\n'\n",
      " '            -------------------------------------- \\n'\n",
      " '            ')\n"
     ]
    }
   ],
   "source": [
    "pprint(cctv_data_info)\n",
    "pprint(sand_data_info)\n",
    "pprint(sand_label_data_info)"
   ]
  },
  {
   "cell_type": "code",
   "execution_count": null,
   "metadata": {},
   "outputs": [],
   "source": []
  }
 ],
 "metadata": {
  "kernelspec": {
   "display_name": "Python 3 (ipykernel)",
   "language": "python",
   "name": "python3"
  },
  "language_info": {
   "codemirror_mode": {
    "name": "ipython",
    "version": 3
   },
   "file_extension": ".py",
   "mimetype": "text/x-python",
   "name": "python",
   "nbconvert_exporter": "python",
   "pygments_lexer": "ipython3",
   "version": "3.10.14"
  }
 },
 "nbformat": 4,
 "nbformat_minor": 4
}
