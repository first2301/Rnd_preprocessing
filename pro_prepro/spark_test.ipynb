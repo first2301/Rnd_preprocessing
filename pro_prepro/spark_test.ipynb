{
 "cells": [
  {
   "cell_type": "code",
   "execution_count": 1,
   "metadata": {},
   "outputs": [],
   "source": [
    "from pyspark.sql.session import SparkSession\n",
    "from pyspark.sql.context import SparkContext\n",
    "from lib.prepro import Preprocessing, SparkDataFrame\n",
    "from tqdm.notebook import tqdm\n",
    "import dask.dataframe as dd"
   ]
  },
  {
   "cell_type": "code",
   "execution_count": 2,
   "metadata": {},
   "outputs": [],
   "source": [
    "PATH_CCTV_DATA = 'G:/industry_data/117.산업시설 열화상 CCTV 데이터/01.데이터/1.Training/원천데이터/*'\n",
    "PATH_SAND_DATA = 'G:/industry_data/264.건설 모래 품질 관리데이터/01-1.정식개방데이터/Training/01.원천데이터/*'\n",
    "PATH_SAND_LABEL = 'G:/industry_data/264.건설 모래 품질 관리데이터/01-1.정식개방데이터/Training/02.라벨링데이터/*'\n",
    "\n",
    "# PATH_CCTV_DATA = './cctv_data/*'\n",
    "# PATH_SAND_DATA = './sand_data/*'\n",
    "# PATH_SAND_LABEL = './sand_label_data/*'\n",
    "\n",
    "# PATH_CCTV_DATA = 'G:/industry_data/117.산업시설 열화상 CCTV 데이터/01.데이터/1.Training/원천데이터'\n",
    "# PATH_SAND_DATA = 'G:/industry_data/264.건설 모래 품질 관리데이터/01-1.정식개방데이터/Training/01.원천데이터'\n",
    "# PATH_SAND_LABEL = 'G:/industry_data/264.건설 모래 품질 관리데이터/01-1.정식개방데이터/Training/02.라벨링데이터'"
   ]
  },
  {
   "cell_type": "code",
   "execution_count": 3,
   "metadata": {},
   "outputs": [],
   "source": [
    "prepro = Preprocessing()\n",
    "sdf = SparkDataFrame()"
   ]
  },
  {
   "cell_type": "code",
   "execution_count": 4,
   "metadata": {},
   "outputs": [],
   "source": [
    "cctv_paths = prepro.get_all_file_paths(PATH_CCTV_DATA)\n",
    "sand_paths = prepro.get_all_file_paths(PATH_SAND_DATA)\n",
    "sand_label_paths = prepro.get_all_file_paths(PATH_SAND_LABEL)"
   ]
  },
  {
   "cell_type": "code",
   "execution_count": 5,
   "metadata": {},
   "outputs": [],
   "source": [
    "cctv_df = sdf.get_spark_dataframe(cctv_paths)\n",
    "sand_df = sdf.get_spark_dataframe(sand_paths)\n",
    "sand_label_df = sdf.get_spark_dataframe(sand_label_paths)"
   ]
  },
  {
   "cell_type": "code",
   "execution_count": 56,
   "metadata": {},
   "outputs": [],
   "source": [
    "# sjson = sdf.get_spark_json(sand_label_paths[0])"
   ]
  },
  {
   "cell_type": "code",
   "execution_count": 8,
   "metadata": {},
   "outputs": [],
   "source": [
    "# JSON 데이터가 압축되어 있는 경우\n",
    "# df = spark.read.option(\"compression\", \"gzip\").json(\"path/to/compressed_files/*.json\")\n",
    "# df.show()\n"
   ]
  },
  {
   "cell_type": "code",
   "execution_count": 47,
   "metadata": {},
   "outputs": [],
   "source": [
    "jpg_jpeg_df = cctv_df.filter(cctv_df[\"file_name\"].contains(\".jpg\") | cctv_df[\"file_name\"].contains(\".jpeg\"))\n",
    "png_df = cctv_df.filter(cctv_df[\"file_name\"].contains(\".png\"))\n",
    "etc_df = cctv_df.filter(~(cctv_df[\"file_name\"].contains(\".jpg\") | cctv_df[\"file_name\"].contains(\".jpeg\") | cctv_df[\"file_name\"].contains(\".png\") | cctv_df[\"file_name\"].contains(\".csv\")))"
   ]
  },
  {
   "cell_type": "code",
   "execution_count": 51,
   "metadata": {},
   "outputs": [],
   "source": [
    "test_df = png_df.repartition(4)"
   ]
  },
  {
   "cell_type": "code",
   "execution_count": 45,
   "metadata": {},
   "outputs": [],
   "source": [
    "test = cctv_df.filter(cctv_df['file_name'].contains(\".csv\"))"
   ]
  },
  {
   "cell_type": "code",
   "execution_count": null,
   "metadata": {},
   "outputs": [],
   "source": [
    "test.count()"
   ]
  },
  {
   "cell_type": "code",
   "execution_count": 73,
   "metadata": {},
   "outputs": [
    {
     "data": {
      "text/plain": [
       "0"
      ]
     },
     "execution_count": 73,
     "metadata": {},
     "output_type": "execute_result"
    }
   ],
   "source": [
    "jpg_jpeg_df.count()"
   ]
  },
  {
   "cell_type": "code",
   "execution_count": null,
   "metadata": {},
   "outputs": [],
   "source": []
  }
 ],
 "metadata": {
  "kernelspec": {
   "display_name": "Python 3 (ipykernel)",
   "language": "python",
   "name": "python3"
  },
  "language_info": {
   "codemirror_mode": {
    "name": "ipython",
    "version": 3
   },
   "file_extension": ".py",
   "mimetype": "text/x-python",
   "name": "python",
   "nbconvert_exporter": "python",
   "pygments_lexer": "ipython3",
   "version": "3.10.14"
  }
 },
 "nbformat": 4,
 "nbformat_minor": 4
}
