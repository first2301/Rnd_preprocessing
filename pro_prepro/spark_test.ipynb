{
 "cells": [
  {
   "cell_type": "code",
   "execution_count": 1,
   "metadata": {},
   "outputs": [
    {
     "name": "stdout",
     "output_type": "stream",
     "text": [
      "Collecting findspark\n",
      "  Downloading findspark-2.0.1-py2.py3-none-any.whl.metadata (352 bytes)\n",
      "Downloading findspark-2.0.1-py2.py3-none-any.whl (4.4 kB)\n",
      "Installing collected packages: findspark\n",
      "Successfully installed findspark-2.0.1\n"
     ]
    }
   ],
   "source": [
    "!pip install findspark"
   ]
  },
  {
   "cell_type": "code",
   "execution_count": 2,
   "metadata": {},
   "outputs": [],
   "source": [
    "from pyspark.sql.session import SparkSession\n",
    "from pyspark.sql.context import SparkContext\n",
    "from lib.prepro import Preprocessing, SparkDataFrame\n",
    "from tqdm.notebook import tqdm\n",
    "import dask.dataframe as dd\n",
    "import os\n",
    "from pprint import pprint"
   ]
  },
  {
   "cell_type": "code",
   "execution_count": 11,
   "metadata": {},
   "outputs": [],
   "source": [
    "# PATH_CCTV_DATA = 'G:/industry_data/117.산업시설 열화상 CCTV 데이터/01.데이터/1.Training/원천데이터/*'\n",
    "# PATH_SAND_DATA = 'G:/industry_data/264.건설 모래 품질 관리데이터/01-1.정식개방데이터/Training/01.원천데이터/*'\n",
    "# PATH_SAND_LABEL = 'G:/industry_data/264.건설 모래 품질 관리데이터/01-1.정식개방데이터/Training/02.라벨링데이터/*'\n",
    "\n",
    "PATH_CCTV_DATA = './cctv_data/*'\n",
    "PATH_SAND_DATA = './sand_data/*'\n",
    "PATH_SAND_LABEL = './sand_label_data/*'\n",
    "\n",
    "# PATH_CCTV_DATA = 'G:/industry_data/117.산업시설 열화상 CCTV 데이터/01.데이터/1.Training/원천데이터'\n",
    "# PATH_SAND_DATA = 'G:/industry_data/264.건설 모래 품질 관리데이터/01-1.정식개방데이터/Training/01.원천데이터'\n",
    "# PATH_SAND_LABEL = 'G:/industry_data/264.건설 모래 품질 관리데이터/01-1.정식개방데이터/Training/02.라벨링데이터'"
   ]
  },
  {
   "cell_type": "code",
   "execution_count": 12,
   "metadata": {},
   "outputs": [],
   "source": [
    "prepro = Preprocessing()\n",
    "sdf = SparkDataFrame()"
   ]
  },
  {
   "cell_type": "code",
   "execution_count": 13,
   "metadata": {},
   "outputs": [],
   "source": [
    "# extract file path \n",
    "cctv_paths = prepro.get_all_file_paths(PATH_CCTV_DATA)\n",
    "sand_paths = prepro.get_all_file_paths(PATH_SAND_DATA)\n",
    "sand_label_paths = prepro.get_all_file_paths(PATH_SAND_LABEL)"
   ]
  },
  {
   "cell_type": "code",
   "execution_count": 14,
   "metadata": {},
   "outputs": [],
   "source": [
    "# make dataframe\n",
    "cctv_df = sdf.get_spark_dataframe(cctv_paths)\n",
    "sand_df = sdf.get_spark_dataframe(sand_paths)\n",
    "sand_label_df = sdf.get_spark_dataframe(sand_label_paths)"
   ]
  },
  {
   "cell_type": "code",
   "execution_count": 24,
   "metadata": {},
   "outputs": [
    {
     "name": "stdout",
     "output_type": "stream",
     "text": [
      "+--------------------+-------+-----------+-----------------------+---------+\n",
      "|           full_path|file_id|  file_name|            folder_name|file_size|\n",
      "+--------------------+-------+-----------+-----------------------+---------+\n",
      "|./sand_data/TS_1....|0010067|0010067.png|TS_1.모래입자크기분류_1|  3018192|\n",
      "|./sand_data/TS_1....|0010049|0010049.png|TS_1.모래입자크기분류_1|  3287386|\n",
      "|./sand_data/TS_1....|0010021|0010021.png|TS_1.모래입자크기분류_1|  3286182|\n",
      "+--------------------+-------+-----------+-----------------------+---------+\n",
      "\n"
     ]
    }
   ],
   "source": [
    "sand_df.limit(3).show()"
   ]
  },
  {
   "cell_type": "code",
   "execution_count": 25,
   "metadata": {},
   "outputs": [],
   "source": [
    "# preprocessed_data_path = 'G:/industry_data/preprocessed_data/sand.parquet'\n",
    "preprocessed_data_path = './preprocessed_data/sand.parquet'"
   ]
  },
  {
   "cell_type": "code",
   "execution_count": null,
   "metadata": {
    "scrolled": true
   },
   "outputs": [],
   "source": [
    "sand_df.write.mode(\"overwrite\").parquet(preprocessed_data_path)\n",
    "# sand_df.write.parquet(preprocessed_data_path)"
   ]
  },
  {
   "cell_type": "code",
   "execution_count": null,
   "metadata": {},
   "outputs": [],
   "source": [
    "test_df = sdf.read_parquet(preprocessed_data_path)"
   ]
  },
  {
   "cell_type": "code",
   "execution_count": null,
   "metadata": {},
   "outputs": [],
   "source": []
  },
  {
   "cell_type": "code",
   "execution_count": null,
   "metadata": {},
   "outputs": [],
   "source": []
  },
  {
   "cell_type": "code",
   "execution_count": 6,
   "metadata": {},
   "outputs": [],
   "source": [
    "# count data type\n",
    "cctv_data_info = prepro.print_data_type_num(cctv_paths)\n",
    "sand_data_info = prepro.print_data_type_num(sand_paths)\n",
    "sand_label_data_info = prepro.print_data_type_num(sand_label_paths)"
   ]
  },
  {
   "cell_type": "code",
   "execution_count": null,
   "metadata": {},
   "outputs": [],
   "source": [
    "sand_label_paths"
   ]
  },
  {
   "cell_type": "code",
   "execution_count": 11,
   "metadata": {},
   "outputs": [],
   "source": [
    "# read json\n",
    "json_data = sdf.get_spark_json(sand_label_paths)"
   ]
  },
  {
   "cell_type": "code",
   "execution_count": 12,
   "metadata": {},
   "outputs": [
    {
     "data": {
      "text/plain": [
       "'4.계기용변압기(PT)'"
      ]
     },
     "execution_count": 12,
     "metadata": {},
     "output_type": "execute_result"
    }
   ],
   "source": [
    "prepro.get_folder_name(cctv_paths[0])"
   ]
  },
  {
   "cell_type": "code",
   "execution_count": 8,
   "metadata": {},
   "outputs": [
    {
     "name": "stdout",
     "output_type": "stream",
     "text": [
      "('\\n'\n",
      " '            데이터 처리 정보: \\n'\n",
      " '            -------------------------------------- \\n'\n",
      " '            전체 이미지 데이터 수: 1457336 \\n'\n",
      " '            png counts: 0 \\n'\n",
      " '            jpg counts: 1093002 \\n'\n",
      " '            csv counts: 364334\\n'\n",
      " '            json counts: 0\\n'\n",
      " '            etc counts: 0 \\n'\n",
      " '            -------------------------------------- \\n'\n",
      " '            ')\n",
      "('\\n'\n",
      " '            데이터 처리 정보: \\n'\n",
      " '            -------------------------------------- \\n'\n",
      " '            전체 이미지 데이터 수: 490755 \\n'\n",
      " '            png counts: 490755 \\n'\n",
      " '            jpg counts: 0 \\n'\n",
      " '            csv counts: 0\\n'\n",
      " '            json counts: 0\\n'\n",
      " '            etc counts: 0 \\n'\n",
      " '            -------------------------------------- \\n'\n",
      " '            ')\n",
      "('\\n'\n",
      " '            데이터 처리 정보: \\n'\n",
      " '            -------------------------------------- \\n'\n",
      " '            전체 이미지 데이터 수: 490755 \\n'\n",
      " '            png counts: 0 \\n'\n",
      " '            jpg counts: 0 \\n'\n",
      " '            csv counts: 0\\n'\n",
      " '            json counts: 490755\\n'\n",
      " '            etc counts: 0 \\n'\n",
      " '            -------------------------------------- \\n'\n",
      " '            ')\n"
     ]
    }
   ],
   "source": [
    "pprint(cctv_data_info)\n",
    "pprint(sand_data_info)\n",
    "pprint(sand_label_data_info)"
   ]
  },
  {
   "cell_type": "code",
   "execution_count": null,
   "metadata": {},
   "outputs": [],
   "source": []
  }
 ],
 "metadata": {
  "kernelspec": {
   "display_name": "Python 3 (ipykernel)",
   "language": "python",
   "name": "python3"
  },
  "language_info": {
   "codemirror_mode": {
    "name": "ipython",
    "version": 3
   },
   "file_extension": ".py",
   "mimetype": "text/x-python",
   "name": "python",
   "nbconvert_exporter": "python",
   "pygments_lexer": "ipython3",
   "version": "3.11.6"
  }
 },
 "nbformat": 4,
 "nbformat_minor": 4
}
