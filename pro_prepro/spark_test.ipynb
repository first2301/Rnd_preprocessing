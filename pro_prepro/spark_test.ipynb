{
 "cells": [
  {
   "cell_type": "code",
   "execution_count": 1,
   "metadata": {},
   "outputs": [
    {
     "name": "stdout",
     "output_type": "stream",
     "text": [
      "Requirement already satisfied: findspark in /opt/conda/lib/python3.11/site-packages (2.0.1)\n"
     ]
    }
   ],
   "source": [
    "!pip install findspark"
   ]
  },
  {
   "cell_type": "code",
   "execution_count": 2,
   "metadata": {},
   "outputs": [
    {
     "name": "stdout",
     "output_type": "stream",
     "text": [
      "Requirement already satisfied: pyarrow in /opt/conda/lib/python3.11/site-packages (13.0.0)\n",
      "Requirement already satisfied: numpy>=1.16.6 in /opt/conda/lib/python3.11/site-packages (from pyarrow) (1.24.4)\n"
     ]
    }
   ],
   "source": [
    "!pip install pyarrow"
   ]
  },
  {
   "cell_type": "code",
   "execution_count": 3,
   "metadata": {},
   "outputs": [],
   "source": [
    "from pyspark.sql.session import SparkSession\n",
    "from pyspark.sql.context import SparkContext\n",
    "from lib.prepro import Preprocessing, SparkDataFrame\n",
    "from tqdm.notebook import tqdm\n",
    "import dask.dataframe as dd\n",
    "import os\n",
    "from pprint import pprint\n",
    "import pandas as pd"
   ]
  },
  {
   "cell_type": "code",
   "execution_count": 4,
   "metadata": {},
   "outputs": [],
   "source": [
    "# PATH_CCTV_DATA = 'G:/industry_data/117.산업시설 열화상 CCTV 데이터/01.데이터/1.Training/원천데이터/*'\n",
    "# PATH_SAND_DATA = 'G:/industry_data/264.건설 모래 품질 관리데이터/01-1.정식개방데이터/Training/01.원천데이터/*'\n",
    "# PATH_SAND_LABEL = 'G:/industry_data/264.건설 모래 품질 관리데이터/01-1.정식개방데이터/Training/02.라벨링데이터/*'\n",
    "\n",
    "PATH_CCTV_DATA = './cctv_data/*'\n",
    "PATH_SAND_DATA = './sand_data/*'\n",
    "PATH_SAND_LABEL = './sand_label_data/*'\n",
    "\n",
    "# PATH_CCTV_DATA = 'G:/industry_data/117.산업시설 열화상 CCTV 데이터/01.데이터/1.Training/원천데이터'\n",
    "# PATH_SAND_DATA = 'G:/industry_data/264.건설 모래 품질 관리데이터/01-1.정식개방데이터/Training/01.원천데이터'\n",
    "# PATH_SAND_LABEL = 'G:/industry_data/264.건설 모래 품질 관리데이터/01-1.정식개방데이터/Training/02.라벨링데이터'"
   ]
  },
  {
   "cell_type": "code",
   "execution_count": 5,
   "metadata": {},
   "outputs": [],
   "source": [
    "prepro = Preprocessing()\n",
    "sdf = SparkDataFrame()"
   ]
  },
  {
   "cell_type": "code",
   "execution_count": 6,
   "metadata": {},
   "outputs": [],
   "source": [
    "# extract file path \n",
    "cctv_paths = prepro.get_all_file_paths(PATH_CCTV_DATA)\n",
    "sand_paths = prepro.get_all_file_paths(PATH_SAND_DATA)\n",
    "sand_label_paths = prepro.get_all_file_paths(PATH_SAND_LABEL)"
   ]
  },
  {
   "cell_type": "code",
   "execution_count": 7,
   "metadata": {},
   "outputs": [],
   "source": [
    "# sand_paths = prepro.get_all_file_paths(PATH_SAND_DATA)"
   ]
  },
  {
   "cell_type": "code",
   "execution_count": 8,
   "metadata": {},
   "outputs": [],
   "source": [
    "# make dataframe\n",
    "cctv_df = sdf.get_spark_dataframe(cctv_paths)\n",
    "sand_df = sdf.get_spark_dataframe(sand_paths)\n",
    "sand_label_df = sdf.get_spark_dataframe(sand_label_paths)"
   ]
  },
  {
   "cell_type": "markdown",
   "metadata": {},
   "source": [
    "### convert dataframe to parquet"
   ]
  },
  {
   "cell_type": "code",
   "execution_count": 11,
   "metadata": {},
   "outputs": [],
   "source": [
    "# parquet_path = './preprocessed_data/sand.parquet'\n",
    "# parquet_name = 'sand2.parquet.gzip'\n",
    "# # full_parquet_path = parquet_path + parquet_name\n",
    "# full_parquet_path = os.path.join(parquet_path, parquet_name)\n",
    "# os.path.exists(parquet_path)"
   ]
  },
  {
   "cell_type": "code",
   "execution_count": 12,
   "metadata": {},
   "outputs": [],
   "source": [
    "# parquet_data = limited_ten_sand_df.toPandas()"
   ]
  },
  {
   "cell_type": "code",
   "execution_count": 13,
   "metadata": {},
   "outputs": [],
   "source": [
    "# parquet_data.to_parquet(full_parquet_path, engine='pyarrow')\n",
    "# parquet_data.to_parquet(full_parquet_path, engine='pyarrow', compression='gzip', index=False)"
   ]
  },
  {
   "cell_type": "code",
   "execution_count": 14,
   "metadata": {},
   "outputs": [],
   "source": [
    "# test_parquet = pd.read_parquet(full_parquet_path)"
   ]
  },
  {
   "cell_type": "markdown",
   "metadata": {},
   "source": [
    "### Save database"
   ]
  },
  {
   "cell_type": "code",
   "execution_count": 15,
   "metadata": {},
   "outputs": [],
   "source": [
    "# import sqlite3\n",
    "# conn = sqlite3.connect('test.db')\n",
    "# cursor = conn.cursor()"
   ]
  },
  {
   "cell_type": "code",
   "execution_count": 9,
   "metadata": {},
   "outputs": [
    {
     "name": "stdout",
     "output_type": "stream",
     "text": [
      "Requirement already satisfied: psycopg2-binary in /opt/conda/lib/python3.11/site-packages (2.9.9)\n"
     ]
    }
   ],
   "source": [
    "!pip install psycopg2-binary"
   ]
  },
  {
   "cell_type": "code",
   "execution_count": 10,
   "metadata": {},
   "outputs": [],
   "source": [
    "import psycopg2\n",
    "from psycopg2 import sql\n",
    "\n",
    "conn = psycopg2.connect(\n",
    "    dbname=\"postgres\",  # 초기 연결은 일반적으로 기본 데이터베이스로\n",
    "    user=\"postgres\",\n",
    "    password=\"1234\",\n",
    "    host=\"postgres\",\n",
    "    port=\"5432\"\n",
    ")\n",
    "conn.autocommit = True  # 데이터베이스 생성 시 autocommit 설정\n",
    "\n",
    "# 커서 생성\n",
    "cursor = conn.cursor()"
   ]
  },
  {
   "cell_type": "code",
   "execution_count": 11,
   "metadata": {},
   "outputs": [],
   "source": [
    "\n",
    "\n",
    "# 데이터베이스 생성 쿼리 실행\n",
    "# database_name = \"testdb\"\n",
    "# cursor.execute(sql.SQL(\"CREATE DATABASE {}\").format(sql.Identifier(database_name)))"
   ]
  },
  {
   "cell_type": "code",
   "execution_count": 12,
   "metadata": {},
   "outputs": [],
   "source": [
    "# 테이블 생성 SQL 명령어\n",
    "create_table_query = sql.SQL(\"\"\"\n",
    "CREATE TABLE IF NOT EXISTS file_data (\n",
    "    full_path TEXT NOT NULL,\n",
    "    file_id VARCHAR(20) PRIMARY KEY,\n",
    "    file_name VARCHAR(255) NOT NULL,\n",
    "    folder_name VARCHAR(255) NOT NULL,\n",
    "    file_size BIGINT NOT NULL\n",
    ")\n",
    "\"\"\")\n",
    "\n",
    "cursor.execute(create_table_query)\n",
    "\n",
    "# 변경 사항 커밋\n",
    "conn.commit()"
   ]
  },
  {
   "cell_type": "code",
   "execution_count": null,
   "metadata": {},
   "outputs": [],
   "source": [
    "%%time\n",
    "url = \"jdbc:postgresql://postgres:5432/postgres\"\n",
    "\n",
    "properties = {\n",
    "    \"user\": \"postgres\",\n",
    "    \"password\": \"1234\",\n",
    "    \"driver\": \"org.postgresql.Driver\"\n",
    "}\n",
    "\n",
    "# DataFrame을 PostgreSQL에 저장\n",
    "sand_df.write \\\n",
    "    .format(\"jdbc\") \\\n",
    "    .option(\"url\", url) \\\n",
    "    .option(\"dbtable\", \"file_data\") \\\n",
    "    .option(\"batchsize\", \"5\") \\\n",
    "    .option(\"numPartitions\", \"10\") \\\n",
    "    .mode(\"overwrite\") \\\n",
    "    .options(**properties) \\\n",
    "    .save()"
   ]
  },
  {
   "cell_type": "code",
   "execution_count": null,
   "metadata": {},
   "outputs": [],
   "source": [
    "cursor.execute(\"SELECT * FROM file_data\")"
   ]
  },
  {
   "cell_type": "code",
   "execution_count": null,
   "metadata": {},
   "outputs": [],
   "source": [
    "cursor.fetchall()"
   ]
  },
  {
   "cell_type": "code",
   "execution_count": null,
   "metadata": {},
   "outputs": [],
   "source": []
  },
  {
   "cell_type": "code",
   "execution_count": null,
   "metadata": {},
   "outputs": [],
   "source": []
  },
  {
   "cell_type": "markdown",
   "metadata": {},
   "source": [
    "### Test"
   ]
  },
  {
   "cell_type": "code",
   "execution_count": 34,
   "metadata": {},
   "outputs": [],
   "source": [
    "df = pd.read_parquet(full_parquet_path)"
   ]
  },
  {
   "cell_type": "code",
   "execution_count": 49,
   "metadata": {},
   "outputs": [],
   "source": [
    "try:\n",
    "    df.to_sql('parquet_data', connection, if_exists='replace', index=False)\n",
    "    connection.commit()\n",
    "except Exception as e:\n",
    "    print(\"SQL에 쓰는 중 오류 발생:\", e)"
   ]
  },
  {
   "cell_type": "code",
   "execution_count": null,
   "metadata": {},
   "outputs": [],
   "source": [
    "cursor.execute(\"SELECT * FROM file_data WHERE type='table';\")\n",
    "tables = cursor.fetchall()\n",
    "print(tables)  # Check if 'parquet_data' is listed\n"
   ]
  },
  {
   "cell_type": "code",
   "execution_count": 51,
   "metadata": {},
   "outputs": [
    {
     "name": "stdout",
     "output_type": "stream",
     "text": [
      "('./sand_data/TS_1.모래입자크기분류_1/0010067.png', '0010067', '0010067.png', 'TS_1.모래입자크기분류_1', 3018192)\n",
      "('./sand_data/TS_1.모래입자크기분류_1/0010049.png', '0010049', '0010049.png', 'TS_1.모래입자크기분류_1', 3287386)\n",
      "('./sand_data/TS_1.모래입자크기분류_1/0010021.png', '0010021', '0010021.png', 'TS_1.모래입자크기분류_1', 3286182)\n",
      "('./sand_data/TS_1.모래입자크기분류_1/0010004.png', '0010004', '0010004.png', 'TS_1.모래입자크기분류_1', 2930369)\n",
      "('./sand_data/TS_1.모래입자크기분류_1/0010094.png', '0010094', '0010094.png', 'TS_1.모래입자크기분류_1', 3266231)\n",
      "('./sand_data/TS_1.모래입자크기분류_1/0010005.png', '0010005', '0010005.png', 'TS_1.모래입자크기분류_1', 3293061)\n",
      "('./sand_data/TS_1.모래입자크기분류_1/0010006.png', '0010006', '0010006.png', 'TS_1.모래입자크기분류_1', 3143184)\n",
      "('./sand_data/TS_1.모래입자크기분류_1/0010057.png', '0010057', '0010057.png', 'TS_1.모래입자크기분류_1', 3275718)\n",
      "('./sand_data/TS_1.모래입자크기분류_1/0010015.png', '0010015', '0010015.png', 'TS_1.모래입자크기분류_1', 3023326)\n",
      "('./sand_data/TS_1.모래입자크기분류_1/0010047.png', '0010047', '0010047.png', 'TS_1.모래입자크기분류_1', 3017624)\n"
     ]
    }
   ],
   "source": [
    "try:\n",
    "    cursor.execute('SELECT * FROM parquet_data')\n",
    "    rows = cursor.fetchall()\n",
    "    for row in rows:\n",
    "        print(row)\n",
    "except sqlite3.OperationalError as e:\n",
    "    print(\"OperationalError:\", e)"
   ]
  },
  {
   "cell_type": "code",
   "execution_count": null,
   "metadata": {},
   "outputs": [],
   "source": []
  },
  {
   "cell_type": "code",
   "execution_count": null,
   "metadata": {},
   "outputs": [],
   "source": []
  },
  {
   "cell_type": "code",
   "execution_count": null,
   "metadata": {},
   "outputs": [],
   "source": []
  },
  {
   "cell_type": "code",
   "execution_count": 11,
   "metadata": {},
   "outputs": [],
   "source": [
    "# read json\n",
    "json_data = sdf.get_spark_json(sand_label_paths)"
   ]
  },
  {
   "cell_type": "code",
   "execution_count": 12,
   "metadata": {},
   "outputs": [
    {
     "data": {
      "text/plain": [
       "'4.계기용변압기(PT)'"
      ]
     },
     "execution_count": 12,
     "metadata": {},
     "output_type": "execute_result"
    }
   ],
   "source": [
    "prepro.get_folder_name(cctv_paths[0])"
   ]
  },
  {
   "cell_type": "code",
   "execution_count": 8,
   "metadata": {},
   "outputs": [
    {
     "name": "stdout",
     "output_type": "stream",
     "text": [
      "('\\n'\n",
      " '            데이터 처리 정보: \\n'\n",
      " '            -------------------------------------- \\n'\n",
      " '            전체 이미지 데이터 수: 1457336 \\n'\n",
      " '            png counts: 0 \\n'\n",
      " '            jpg counts: 1093002 \\n'\n",
      " '            csv counts: 364334\\n'\n",
      " '            json counts: 0\\n'\n",
      " '            etc counts: 0 \\n'\n",
      " '            -------------------------------------- \\n'\n",
      " '            ')\n",
      "('\\n'\n",
      " '            데이터 처리 정보: \\n'\n",
      " '            -------------------------------------- \\n'\n",
      " '            전체 이미지 데이터 수: 490755 \\n'\n",
      " '            png counts: 490755 \\n'\n",
      " '            jpg counts: 0 \\n'\n",
      " '            csv counts: 0\\n'\n",
      " '            json counts: 0\\n'\n",
      " '            etc counts: 0 \\n'\n",
      " '            -------------------------------------- \\n'\n",
      " '            ')\n",
      "('\\n'\n",
      " '            데이터 처리 정보: \\n'\n",
      " '            -------------------------------------- \\n'\n",
      " '            전체 이미지 데이터 수: 490755 \\n'\n",
      " '            png counts: 0 \\n'\n",
      " '            jpg counts: 0 \\n'\n",
      " '            csv counts: 0\\n'\n",
      " '            json counts: 490755\\n'\n",
      " '            etc counts: 0 \\n'\n",
      " '            -------------------------------------- \\n'\n",
      " '            ')\n"
     ]
    }
   ],
   "source": [
    "pprint(cctv_data_info)\n",
    "pprint(sand_data_info)\n",
    "pprint(sand_label_data_info)"
   ]
  },
  {
   "cell_type": "code",
   "execution_count": null,
   "metadata": {},
   "outputs": [],
   "source": []
  }
 ],
 "metadata": {
  "kernelspec": {
   "display_name": "Python 3 (ipykernel)",
   "language": "python",
   "name": "python3"
  },
  "language_info": {
   "codemirror_mode": {
    "name": "ipython",
    "version": 3
   },
   "file_extension": ".py",
   "mimetype": "text/x-python",
   "name": "python",
   "nbconvert_exporter": "python",
   "pygments_lexer": "ipython3",
   "version": "3.11.6"
  }
 },
 "nbformat": 4,
 "nbformat_minor": 4
}
