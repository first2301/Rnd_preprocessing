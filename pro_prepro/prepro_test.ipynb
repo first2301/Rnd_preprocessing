{
 "cells": [
  {
   "cell_type": "code",
   "execution_count": 1,
   "metadata": {},
   "outputs": [],
   "source": [
    "from pyspark.sql import SparkSession\n",
    "\n",
    "# spark = SparkSession.builder.getOrCreate()\n",
    "spark = SparkSession.builder \\\n",
    "    .appName(\"ImageDataProcessing\") \\\n",
    "    .config(\"spark.driver.memory\", \"4g\") \\\n",
    "    .config(\"spark.executor.memory\", \"4g\") \\\n",
    "    .getOrCreate()"
   ]
  },
  {
   "cell_type": "code",
   "execution_count": 2,
   "metadata": {},
   "outputs": [],
   "source": [
    "from datetime import datetime, date\n",
    "import pandas as pd\n",
    "from pyspark.sql import Row"
   ]
  },
  {
   "cell_type": "code",
   "execution_count": null,
   "metadata": {},
   "outputs": [],
   "source": [
    "from pyspark.sql.functions import col, split, udf\n",
    "from pyspark.sql.types import StringType, LongType, StructType, StructField\n",
    "import os\n",
    "import glob"
   ]
  },
  {
   "cell_type": "code",
   "execution_count": 4,
   "metadata": {},
   "outputs": [],
   "source": [
    "# paths = glob.glob('./work/*')\n",
    "paths = glob.glob('../data/sand/*')"
   ]
  },
  {
   "cell_type": "code",
   "execution_count": 6,
   "metadata": {},
   "outputs": [],
   "source": [
    "img_dir_list = [path for path in paths if not path.endswith('.zip')]\n",
    "img_total_list = [glob.glob(folder+'/*') for folder in img_dir_list]\n",
    "img_paths = [img_path for sublist in img_total_list for img_path in sublist]"
   ]
  },
  {
   "cell_type": "code",
   "execution_count": 7,
   "metadata": {},
   "outputs": [],
   "source": [
    "def get_file_name(path):\n",
    "    return os.path.basename(path)\n",
    "\n",
    "def get_file_id(path):\n",
    "    file_name = os.path.basename(path)\n",
    "    file_id = os.path.splitext(file_name)[0]\n",
    "    return file_id\n",
    "    # return file_name.split('.')[0] \n",
    "    # return os.path.splitext(file_name)[0]\n",
    "    \n",
    "def get_folder_name(path):\n",
    "    return os.path.basename(os.path.dirname(path))\n",
    "\n",
    "def get_file_size(path):\n",
    "    return os.path.getsize(path)\n",
    "\n"
   ]
  },
  {
   "cell_type": "code",
   "execution_count": 8,
   "metadata": {},
   "outputs": [],
   "source": [
    "get_file_id_udf = udf(get_file_id, StringType())\n",
    "get_file_name_udf = udf(get_file_name, StringType())\n",
    "get_folder_name_udf = udf(get_folder_name, StringType())\n",
    "get_file_size_udf = udf(get_file_size, LongType())"
   ]
  },
  {
   "cell_type": "code",
   "execution_count": 9,
   "metadata": {},
   "outputs": [
    {
     "name": "stdout",
     "output_type": "stream",
     "text": [
      "+------------------------------------------------+-------+-----------+-----------------------+---------+\n",
      "|full_path                                       |file_id|file_name  |folder_name            |file_size|\n",
      "+------------------------------------------------+-------+-----------+-----------------------+---------+\n",
      "|../data/sand/TS_1.모래입자크기분류_1/0010067.png|0010067|0010067.png|TS_1.모래입자크기분류_1|3018192  |\n",
      "|../data/sand/TS_1.모래입자크기분류_1/0010049.png|0010049|0010049.png|TS_1.모래입자크기분류_1|3287386  |\n",
      "|../data/sand/TS_1.모래입자크기분류_1/0010021.png|0010021|0010021.png|TS_1.모래입자크기분류_1|3286182  |\n",
      "|../data/sand/TS_1.모래입자크기분류_1/0010004.png|0010004|0010004.png|TS_1.모래입자크기분류_1|2930369  |\n",
      "|../data/sand/TS_1.모래입자크기분류_1/0010094.png|0010094|0010094.png|TS_1.모래입자크기분류_1|3266231  |\n",
      "|../data/sand/TS_1.모래입자크기분류_1/0010005.png|0010005|0010005.png|TS_1.모래입자크기분류_1|3293061  |\n",
      "|../data/sand/TS_1.모래입자크기분류_1/0010006.png|0010006|0010006.png|TS_1.모래입자크기분류_1|3143184  |\n",
      "|../data/sand/TS_1.모래입자크기분류_1/0010057.png|0010057|0010057.png|TS_1.모래입자크기분류_1|3275718  |\n",
      "|../data/sand/TS_1.모래입자크기분류_1/0010015.png|0010015|0010015.png|TS_1.모래입자크기분류_1|3023326  |\n",
      "|../data/sand/TS_1.모래입자크기분류_1/0010047.png|0010047|0010047.png|TS_1.모래입자크기분류_1|3017624  |\n",
      "|../data/sand/TS_1.모래입자크기분류_1/0010048.png|0010048|0010048.png|TS_1.모래입자크기분류_1|2913163  |\n",
      "|../data/sand/TS_1.모래입자크기분류_1/0010029.png|0010029|0010029.png|TS_1.모래입자크기분류_1|3298232  |\n",
      "|../data/sand/TS_1.모래입자크기분류_1/0010028.png|0010028|0010028.png|TS_1.모래입자크기분류_1|2905486  |\n",
      "|../data/sand/TS_1.모래입자크기분류_1/0010024.png|0010024|0010024.png|TS_1.모래입자크기분류_1|2909787  |\n",
      "|../data/sand/TS_1.모래입자크기분류_1/0010056.png|0010056|0010056.png|TS_1.모래입자크기분류_1|2902047  |\n",
      "|../data/sand/TS_1.모래입자크기분류_1/0010026.png|0010026|0010026.png|TS_1.모래입자크기분류_1|3132511  |\n",
      "|../data/sand/TS_1.모래입자크기분류_1/0010080.png|0010080|0010080.png|TS_1.모래입자크기분류_1|2907208  |\n",
      "|../data/sand/TS_1.모래입자크기분류_1/0010018.png|0010018|0010018.png|TS_1.모래입자크기분류_1|3146198  |\n",
      "|../data/sand/TS_1.모래입자크기분류_1/0010116.png|0010116|0010116.png|TS_1.모래입자크기분류_1|2930838  |\n",
      "|../data/sand/TS_1.모래입자크기분류_1/0010033.png|0010033|0010033.png|TS_1.모래입자크기분류_1|3291776  |\n",
      "+------------------------------------------------+-------+-----------+-----------------------+---------+\n",
      "only showing top 20 rows\n",
      "\n",
      "CPU times: user 4.17 s, sys: 61.9 ms, total: 4.24 s\n",
      "Wall time: 8.51 s\n"
     ]
    }
   ],
   "source": [
    "%%time\n",
    "df = spark.createDataFrame([(path,) for path in img_paths], [\"full_path\"])\n",
    "df = df.withColumn(\"file_id\", get_file_id_udf(\"full_path\"))\n",
    "df = df.withColumn(\"file_name\", get_file_name_udf(\"full_path\"))\n",
    "df = df.withColumn(\"folder_name\", get_folder_name_udf(\"full_path\"))\n",
    "df = df.withColumn(\"file_size\", get_file_size_udf(\"full_path\"))\n",
    "df.show(truncate=False)"
   ]
  },
  {
   "cell_type": "code",
   "execution_count": 10,
   "metadata": {},
   "outputs": [
    {
     "data": {
      "text/plain": [
       "490755"
      ]
     },
     "execution_count": 10,
     "metadata": {},
     "output_type": "execute_result"
    }
   ],
   "source": [
    "df.count()"
   ]
  },
  {
   "cell_type": "code",
   "execution_count": null,
   "metadata": {},
   "outputs": [],
   "source": []
  },
  {
   "cell_type": "code",
   "execution_count": null,
   "metadata": {},
   "outputs": [],
   "source": []
  }
 ],
 "metadata": {
  "kernelspec": {
   "display_name": "Python 3 (ipykernel)",
   "language": "python",
   "name": "python3"
  },
  "language_info": {
   "codemirror_mode": {
    "name": "ipython",
    "version": 3
   },
   "file_extension": ".py",
   "mimetype": "text/x-python",
   "name": "python",
   "nbconvert_exporter": "python",
   "pygments_lexer": "ipython3",
   "version": "3.11.6"
  }
 },
 "nbformat": 4,
 "nbformat_minor": 4
}
