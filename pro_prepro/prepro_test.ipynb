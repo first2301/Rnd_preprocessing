{
 "cells": [
  {
   "cell_type": "code",
   "execution_count": 1,
   "metadata": {},
   "outputs": [],
   "source": [
    "from pyspark.sql import SparkSession\n",
    "import findspark\n",
    "findspark.init()\n",
    "# spark = SparkSession.builder.getOrCreate()\n",
    "spark = SparkSession.builder \\\n",
    "    .appName(\"ImageDataProcessing\") \\\n",
    "    .config(\"spark.driver.memory\", \"4g\") \\\n",
    "    .config(\"spark.executor.memory\", \"4g\") \\\n",
    "    .getOrCreate()"
   ]
  },
  {
   "cell_type": "code",
   "execution_count": 2,
   "metadata": {},
   "outputs": [],
   "source": [
    "from datetime import datetime, date\n",
    "import pandas as pd\n",
    "from pyspark.sql import Row"
   ]
  },
  {
   "cell_type": "code",
   "execution_count": 3,
   "metadata": {},
   "outputs": [],
   "source": [
    "from pyspark.sql.functions import col, split, udf\n",
    "from pyspark.sql.types import StringType, LongType, StructType, StructField\n",
    "import os\n",
    "import glob"
   ]
  },
  {
   "cell_type": "code",
   "execution_count": 7,
   "metadata": {},
   "outputs": [],
   "source": [
    "PATH1 = 'G:/industry_data/264.건설 모래 품질 관리데이터/01-1.정식개방데이터/Training/01.원천데이터/*'\n",
    "# paths = glob.glob('./work/*')\n",
    "# paths = glob.glob('../data/sand/*')\n",
    "paths = glob.glob(PATH1)"
   ]
  },
  {
   "cell_type": "code",
   "execution_count": null,
   "metadata": {},
   "outputs": [],
   "source": [
    "\"tetestst\""
   ]
  },
  {
   "cell_type": "code",
   "execution_count": 9,
   "metadata": {},
   "outputs": [
    {
     "data": {
      "text/plain": [
       "['G:/industry_data/264.건설 모래 품질 관리데이터/01-1.정식개방데이터/Training/01.원천데이터\\\\TS_1.모래입자크기분류_13.zip',\n",
       " 'G:/industry_data/264.건설 모래 품질 관리데이터/01-1.정식개방데이터/Training/01.원천데이터\\\\TS_2.모래위험광물분류_5.zip',\n",
       " 'G:/industry_data/264.건설 모래 품질 관리데이터/01-1.정식개방데이터/Training/01.원천데이터\\\\TS_1.모래입자크기분류_2.zip',\n",
       " 'G:/industry_data/264.건설 모래 품질 관리데이터/01-1.정식개방데이터/Training/01.원천데이터\\\\TS_1.모래입자크기분류_9.zip',\n",
       " 'G:/industry_data/264.건설 모래 품질 관리데이터/01-1.정식개방데이터/Training/01.원천데이터\\\\TS_1.모래입자크기분류_11.zip',\n",
       " 'G:/industry_data/264.건설 모래 품질 관리데이터/01-1.정식개방데이터/Training/01.원천데이터\\\\TS_1.모래입자크기분류_10.zip',\n",
       " 'G:/industry_data/264.건설 모래 품질 관리데이터/01-1.정식개방데이터/Training/01.원천데이터\\\\TS_1.모래입자크기분류_3.zip',\n",
       " 'G:/industry_data/264.건설 모래 품질 관리데이터/01-1.정식개방데이터/Training/01.원천데이터\\\\TS_1.모래입자크기분류_1.zip',\n",
       " 'G:/industry_data/264.건설 모래 품질 관리데이터/01-1.정식개방데이터/Training/01.원천데이터\\\\TS_1.모래입자크기분류_5.zip',\n",
       " 'G:/industry_data/264.건설 모래 품질 관리데이터/01-1.정식개방데이터/Training/01.원천데이터\\\\TS_1.모래입자크기분류_8.zip',\n",
       " 'G:/industry_data/264.건설 모래 품질 관리데이터/01-1.정식개방데이터/Training/01.원천데이터\\\\TS_1.모래입자크기분류_4.zip',\n",
       " 'G:/industry_data/264.건설 모래 품질 관리데이터/01-1.정식개방데이터/Training/01.원천데이터\\\\TS_1.모래입자크기분류_12.zip',\n",
       " 'G:/industry_data/264.건설 모래 품질 관리데이터/01-1.정식개방데이터/Training/01.원천데이터\\\\TS_1.모래입자크기분류_6.zip',\n",
       " 'G:/industry_data/264.건설 모래 품질 관리데이터/01-1.정식개방데이터/Training/01.원천데이터\\\\TS_1.모래입자크기분류_7.zip',\n",
       " 'G:/industry_data/264.건설 모래 품질 관리데이터/01-1.정식개방데이터/Training/01.원천데이터\\\\TS_2.모래위험광물분류_2.zip',\n",
       " 'G:/industry_data/264.건설 모래 품질 관리데이터/01-1.정식개방데이터/Training/01.원천데이터\\\\TS_2.모래위험광물분류_1.zip',\n",
       " 'G:/industry_data/264.건설 모래 품질 관리데이터/01-1.정식개방데이터/Training/01.원천데이터\\\\TS_2.모래위험광물분류_4.zip',\n",
       " 'G:/industry_data/264.건설 모래 품질 관리데이터/01-1.정식개방데이터/Training/01.원천데이터\\\\TS_2.모래위험광물분류_3.zip',\n",
       " 'G:/industry_data/264.건설 모래 품질 관리데이터/01-1.정식개방데이터/Training/01.원천데이터\\\\TS_1.모래입자크기분류_1',\n",
       " 'G:/industry_data/264.건설 모래 품질 관리데이터/01-1.정식개방데이터/Training/01.원천데이터\\\\TS_1.모래입자크기분류_13',\n",
       " 'G:/industry_data/264.건설 모래 품질 관리데이터/01-1.정식개방데이터/Training/01.원천데이터\\\\TS_1.모래입자크기분류_3',\n",
       " 'G:/industry_data/264.건설 모래 품질 관리데이터/01-1.정식개방데이터/Training/01.원천데이터\\\\TS_2.모래위험광물분류_5',\n",
       " 'G:/industry_data/264.건설 모래 품질 관리데이터/01-1.정식개방데이터/Training/01.원천데이터\\\\TS_1.모래입자크기분류_5',\n",
       " 'G:/industry_data/264.건설 모래 품질 관리데이터/01-1.정식개방데이터/Training/01.원천데이터\\\\TS_2.모래위험광물분류_3',\n",
       " 'G:/industry_data/264.건설 모래 품질 관리데이터/01-1.정식개방데이터/Training/01.원천데이터\\\\TS_2.모래위험광물분류_2',\n",
       " 'G:/industry_data/264.건설 모래 품질 관리데이터/01-1.정식개방데이터/Training/01.원천데이터\\\\TS_1.모래입자크기분류_4',\n",
       " 'G:/industry_data/264.건설 모래 품질 관리데이터/01-1.정식개방데이터/Training/01.원천데이터\\\\TS_1.모래입자크기분류_2',\n",
       " 'G:/industry_data/264.건설 모래 품질 관리데이터/01-1.정식개방데이터/Training/01.원천데이터\\\\TS_2.모래위험광물분류_4',\n",
       " 'G:/industry_data/264.건설 모래 품질 관리데이터/01-1.정식개방데이터/Training/01.원천데이터\\\\TS_1.모래입자크기분류_12',\n",
       " 'G:/industry_data/264.건설 모래 품질 관리데이터/01-1.정식개방데이터/Training/01.원천데이터\\\\TS_1.모래입자크기분류_7',\n",
       " 'G:/industry_data/264.건설 모래 품질 관리데이터/01-1.정식개방데이터/Training/01.원천데이터\\\\TS_1.모래입자크기분류_6',\n",
       " 'G:/industry_data/264.건설 모래 품질 관리데이터/01-1.정식개방데이터/Training/01.원천데이터\\\\TS_1.모래입자크기분류_8',\n",
       " 'G:/industry_data/264.건설 모래 품질 관리데이터/01-1.정식개방데이터/Training/01.원천데이터\\\\TS_2.모래위험광물분류_1',\n",
       " 'G:/industry_data/264.건설 모래 품질 관리데이터/01-1.정식개방데이터/Training/01.원천데이터\\\\TS_1.모래입자크기분류_11',\n",
       " 'G:/industry_data/264.건설 모래 품질 관리데이터/01-1.정식개방데이터/Training/01.원천데이터\\\\TS_1.모래입자크기분류_9',\n",
       " 'G:/industry_data/264.건설 모래 품질 관리데이터/01-1.정식개방데이터/Training/01.원천데이터\\\\TS_1.모래입자크기분류_10',\n",
       " 'G:/industry_data/264.건설 모래 품질 관리데이터/01-1.정식개방데이터/Training/01.원천데이터\\\\Untitled Folder']"
      ]
     },
     "execution_count": 9,
     "metadata": {},
     "output_type": "execute_result"
    }
   ],
   "source": [
    "paths"
   ]
  },
  {
   "cell_type": "code",
   "execution_count": 10,
   "metadata": {},
   "outputs": [],
   "source": [
    "img_dir_list = [path for path in paths if not path.endswith('.zip')]\n",
    "img_total_list = [glob.glob(folder+'/*') for folder in img_dir_list]\n",
    "img_paths = [img_path for sublist in img_total_list for img_path in sublist]"
   ]
  },
  {
   "cell_type": "code",
   "execution_count": 11,
   "metadata": {},
   "outputs": [],
   "source": [
    "def get_file_name(path):\n",
    "    return os.path.basename(path)\n",
    "\n",
    "def get_file_id(path):\n",
    "    file_name = os.path.basename(path)\n",
    "    file_id = os.path.splitext(file_name)[0]\n",
    "    return file_id\n",
    "    # return file_name.split('.')[0] \n",
    "    # return os.path.splitext(file_name)[0]\n",
    "    \n",
    "def get_folder_name(path):\n",
    "    return os.path.basename(os.path.dirname(path))\n",
    "\n",
    "def get_file_size(path):\n",
    "    return os.path.getsize(path)\n",
    "\n"
   ]
  },
  {
   "cell_type": "code",
   "execution_count": 12,
   "metadata": {},
   "outputs": [],
   "source": [
    "get_file_id_udf = udf(get_file_id, StringType())\n",
    "get_file_name_udf = udf(get_file_name, StringType())\n",
    "get_folder_name_udf = udf(get_folder_name, StringType())\n",
    "get_file_size_udf = udf(get_file_size, LongType())"
   ]
  },
  {
   "cell_type": "code",
   "execution_count": 13,
   "metadata": {},
   "outputs": [
    {
     "name": "stdout",
     "output_type": "stream",
     "text": [
      "+-----------------------------------------------------------------------------------------------------------------------------+-------+-----------+-----------------------+---------+\n",
      "|full_path                                                                                                                    |file_id|file_name  |folder_name            |file_size|\n",
      "+-----------------------------------------------------------------------------------------------------------------------------+-------+-----------+-----------------------+---------+\n",
      "|G:/industry_data/264.건설 모래 품질 관리데이터/01-1.정식개방데이터/Training/01.원천데이터\\TS_1.모래입자크기분류_1\\0010067.png|0010067|0010067.png|TS_1.모래입자크기분류_1|3018192  |\n",
      "|G:/industry_data/264.건설 모래 품질 관리데이터/01-1.정식개방데이터/Training/01.원천데이터\\TS_1.모래입자크기분류_1\\0010049.png|0010049|0010049.png|TS_1.모래입자크기분류_1|3287386  |\n",
      "|G:/industry_data/264.건설 모래 품질 관리데이터/01-1.정식개방데이터/Training/01.원천데이터\\TS_1.모래입자크기분류_1\\0010021.png|0010021|0010021.png|TS_1.모래입자크기분류_1|3286182  |\n",
      "|G:/industry_data/264.건설 모래 품질 관리데이터/01-1.정식개방데이터/Training/01.원천데이터\\TS_1.모래입자크기분류_1\\0010004.png|0010004|0010004.png|TS_1.모래입자크기분류_1|2930369  |\n",
      "|G:/industry_data/264.건설 모래 품질 관리데이터/01-1.정식개방데이터/Training/01.원천데이터\\TS_1.모래입자크기분류_1\\0010094.png|0010094|0010094.png|TS_1.모래입자크기분류_1|3266231  |\n",
      "|G:/industry_data/264.건설 모래 품질 관리데이터/01-1.정식개방데이터/Training/01.원천데이터\\TS_1.모래입자크기분류_1\\0010005.png|0010005|0010005.png|TS_1.모래입자크기분류_1|3293061  |\n",
      "|G:/industry_data/264.건설 모래 품질 관리데이터/01-1.정식개방데이터/Training/01.원천데이터\\TS_1.모래입자크기분류_1\\0010006.png|0010006|0010006.png|TS_1.모래입자크기분류_1|3143184  |\n",
      "|G:/industry_data/264.건설 모래 품질 관리데이터/01-1.정식개방데이터/Training/01.원천데이터\\TS_1.모래입자크기분류_1\\0010057.png|0010057|0010057.png|TS_1.모래입자크기분류_1|3275718  |\n",
      "|G:/industry_data/264.건설 모래 품질 관리데이터/01-1.정식개방데이터/Training/01.원천데이터\\TS_1.모래입자크기분류_1\\0010015.png|0010015|0010015.png|TS_1.모래입자크기분류_1|3023326  |\n",
      "|G:/industry_data/264.건설 모래 품질 관리데이터/01-1.정식개방데이터/Training/01.원천데이터\\TS_1.모래입자크기분류_1\\0010047.png|0010047|0010047.png|TS_1.모래입자크기분류_1|3017624  |\n",
      "|G:/industry_data/264.건설 모래 품질 관리데이터/01-1.정식개방데이터/Training/01.원천데이터\\TS_1.모래입자크기분류_1\\0010048.png|0010048|0010048.png|TS_1.모래입자크기분류_1|2913163  |\n",
      "|G:/industry_data/264.건설 모래 품질 관리데이터/01-1.정식개방데이터/Training/01.원천데이터\\TS_1.모래입자크기분류_1\\0010029.png|0010029|0010029.png|TS_1.모래입자크기분류_1|3298232  |\n",
      "|G:/industry_data/264.건설 모래 품질 관리데이터/01-1.정식개방데이터/Training/01.원천데이터\\TS_1.모래입자크기분류_1\\0010028.png|0010028|0010028.png|TS_1.모래입자크기분류_1|2905486  |\n",
      "|G:/industry_data/264.건설 모래 품질 관리데이터/01-1.정식개방데이터/Training/01.원천데이터\\TS_1.모래입자크기분류_1\\0010024.png|0010024|0010024.png|TS_1.모래입자크기분류_1|2909787  |\n",
      "|G:/industry_data/264.건설 모래 품질 관리데이터/01-1.정식개방데이터/Training/01.원천데이터\\TS_1.모래입자크기분류_1\\0010056.png|0010056|0010056.png|TS_1.모래입자크기분류_1|2902047  |\n",
      "|G:/industry_data/264.건설 모래 품질 관리데이터/01-1.정식개방데이터/Training/01.원천데이터\\TS_1.모래입자크기분류_1\\0010026.png|0010026|0010026.png|TS_1.모래입자크기분류_1|3132511  |\n",
      "|G:/industry_data/264.건설 모래 품질 관리데이터/01-1.정식개방데이터/Training/01.원천데이터\\TS_1.모래입자크기분류_1\\0010080.png|0010080|0010080.png|TS_1.모래입자크기분류_1|2907208  |\n",
      "|G:/industry_data/264.건설 모래 품질 관리데이터/01-1.정식개방데이터/Training/01.원천데이터\\TS_1.모래입자크기분류_1\\0010018.png|0010018|0010018.png|TS_1.모래입자크기분류_1|3146198  |\n",
      "|G:/industry_data/264.건설 모래 품질 관리데이터/01-1.정식개방데이터/Training/01.원천데이터\\TS_1.모래입자크기분류_1\\0010116.png|0010116|0010116.png|TS_1.모래입자크기분류_1|2930838  |\n",
      "|G:/industry_data/264.건설 모래 품질 관리데이터/01-1.정식개방데이터/Training/01.원천데이터\\TS_1.모래입자크기분류_1\\0010033.png|0010033|0010033.png|TS_1.모래입자크기분류_1|3291776  |\n",
      "+-----------------------------------------------------------------------------------------------------------------------------+-------+-----------+-----------------------+---------+\n",
      "only showing top 20 rows\n",
      "\n",
      "CPU times: total: 1.39 s\n",
      "Wall time: 12.4 s\n"
     ]
    }
   ],
   "source": [
    "%%time\n",
    "df = spark.createDataFrame([(path,) for path in img_paths], [\"full_path\"])\n",
    "df = df.withColumn(\"file_id\", get_file_id_udf(\"full_path\"))\n",
    "df = df.withColumn(\"file_name\", get_file_name_udf(\"full_path\"))\n",
    "df = df.withColumn(\"folder_name\", get_folder_name_udf(\"full_path\"))\n",
    "df = df.withColumn(\"file_size\", get_file_size_udf(\"full_path\"))\n",
    "df.show(truncate=False)"
   ]
  },
  {
   "cell_type": "code",
   "execution_count": 14,
   "metadata": {},
   "outputs": [
    {
     "data": {
      "text/plain": [
       "490755"
      ]
     },
     "execution_count": 14,
     "metadata": {},
     "output_type": "execute_result"
    }
   ],
   "source": [
    "df.count()"
   ]
  },
  {
   "cell_type": "code",
   "execution_count": null,
   "metadata": {},
   "outputs": [],
   "source": []
  },
  {
   "cell_type": "code",
   "execution_count": null,
   "metadata": {},
   "outputs": [],
   "source": []
  }
 ],
 "metadata": {
  "kernelspec": {
   "display_name": "Python 3 (ipykernel)",
   "language": "python",
   "name": "python3"
  },
  "language_info": {
   "codemirror_mode": {
    "name": "ipython",
    "version": 3
   },
   "file_extension": ".py",
   "mimetype": "text/x-python",
   "name": "python",
   "nbconvert_exporter": "python",
   "pygments_lexer": "ipython3",
   "version": "3.10.14"
  }
 },
 "nbformat": 4,
 "nbformat_minor": 4
}
